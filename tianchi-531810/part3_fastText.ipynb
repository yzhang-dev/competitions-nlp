{
 "cells": [
  {
   "cell_type": "markdown",
   "metadata": {},
   "source": [
    "# Part 3 fastText\n",
    "\n",
    "[Bag of Tricks for Efficient Text Classification](https://arxiv.org/abs/1607.01759)"
   ]
  },
  {
   "cell_type": "markdown",
   "metadata": {},
   "source": [
    "## Utils"
   ]
  },
  {
   "cell_type": "code",
   "execution_count": 1,
   "metadata": {},
   "outputs": [],
   "source": [
    "import pandas as pd\n",
    "import numpy as np\n",
    "\n",
    "np.random.seed(0)  # reproducibility"
   ]
  },
  {
   "cell_type": "code",
   "execution_count": 2,
   "metadata": {},
   "outputs": [],
   "source": [
    "def prefix_to_csv(df, prefix='__label__', path='fasttext/train.csv'):\n",
    "    \n",
    "    df['prefix_label'] = prefix + df['label'].astype(str)\n",
    "    df[['text', 'prefix_label']].to_csv(path, sep='\\t', header=False, index=False)"
   ]
  },
  {
   "cell_type": "code",
   "execution_count": 3,
   "metadata": {},
   "outputs": [],
   "source": [
    "def submit_to_scv(pred, \n",
    "                  sample_csv='data/test_a_sample_submit.csv', \n",
    "                  path='submissions/sub.csv'):\n",
    "    \n",
    "    sub = pd.read_csv(sample_csv, index_col=False)\n",
    "    sub['label'] = pred\n",
    "    sub.to_csv(path, index=False)"
   ]
  },
  {
   "cell_type": "markdown",
   "metadata": {},
   "source": [
    "## Load Data"
   ]
  },
  {
   "cell_type": "code",
   "execution_count": 4,
   "metadata": {},
   "outputs": [
    {
     "name": "stdout",
     "output_type": "stream",
     "text": [
      "CPU times: user 3.9 s, sys: 394 ms, total: 4.3 s\n",
      "Wall time: 4.33 s\n"
     ]
    }
   ],
   "source": [
    "%%time\n",
    "\n",
    "train_df = pd.read_csv('data/train_set.csv', sep='\\t', nrows=50000, index_col=False)\n",
    "test_df = pd.read_csv('data/test_a.csv', sep='\\t', index_col=False)"
   ]
  },
  {
   "cell_type": "markdown",
   "metadata": {},
   "source": [
    "## Hold-out"
   ]
  },
  {
   "cell_type": "code",
   "execution_count": 5,
   "metadata": {},
   "outputs": [],
   "source": [
    "HOLD_OUT = 0.2\n",
    "PREFIX = '__label__'"
   ]
  },
  {
   "cell_type": "code",
   "execution_count": 6,
   "metadata": {},
   "outputs": [],
   "source": [
    "from sklearn.model_selection import train_test_split\n",
    "\n",
    "X, y = train_df['text'], train_df['label'].astype(str)\n",
    "X_test = test_df['text']\n",
    "\n",
    "X_train, X_val, y_train, y_val = train_test_split(\n",
    "    X, y, \n",
    "    test_size=HOLD_OUT, \n",
    "    random_state=42\n",
    ")\n",
    "\n",
    "prefix_to_csv(X_train.to_frame().join(y_train), prefix=PREFIX)"
   ]
  },
  {
   "cell_type": "markdown",
   "metadata": {},
   "source": [
    "## fastText for Text Classification\n",
    "* [Text classification tutoriol](https://fasttext.cc/docs/en/supervised-tutorial.html)\n",
    "* [List of options](https://fasttext.cc/docs/en/options.html)"
   ]
  },
  {
   "cell_type": "code",
   "execution_count": 7,
   "metadata": {},
   "outputs": [
    {
     "name": "stdout",
     "output_type": "stream",
     "text": [
      "Requirement already satisfied: fasttext in /Users/yizhang/miniconda/envs/py3/lib/python3.7/site-packages (0.9.2)\n",
      "Requirement already satisfied: setuptools>=0.7.0 in /Users/yizhang/miniconda/envs/py3/lib/python3.7/site-packages (from fasttext) (49.2.0.post20200714)\n",
      "Requirement already satisfied: pybind11>=2.2 in /Users/yizhang/miniconda/envs/py3/lib/python3.7/site-packages (from fasttext) (2.5.0)\n",
      "Requirement already satisfied: numpy in /Users/yizhang/miniconda/envs/py3/lib/python3.7/site-packages (from fasttext) (1.18.5)\n"
     ]
    }
   ],
   "source": [
    "!pip install fasttext"
   ]
  },
  {
   "cell_type": "code",
   "execution_count": 8,
   "metadata": {},
   "outputs": [
    {
     "name": "stdout",
     "output_type": "stream",
     "text": [
      "Help on function train_supervised in module fasttext.FastText:\n",
      "\n",
      "train_supervised(*kargs, **kwargs)\n",
      "    Train a supervised model and return a model object.\n",
      "    \n",
      "    input must be a filepath. The input text does not need to be tokenized\n",
      "    as per the tokenize function, but it must be preprocessed and encoded\n",
      "    as UTF-8. You might want to consult standard preprocessing scripts such\n",
      "    as tokenizer.perl mentioned here: http://www.statmt.org/wmt07/baseline.html\n",
      "    \n",
      "    The input file must must contain at least one label per line. For an\n",
      "    example consult the example datasets which are part of the fastText\n",
      "    repository such as the dataset pulled by classification-example.sh.\n",
      "\n"
     ]
    }
   ],
   "source": [
    "import fasttext\n",
    "help(fasttext.train_supervised)"
   ]
  },
  {
   "cell_type": "code",
   "execution_count": 9,
   "metadata": {},
   "outputs": [
    {
     "name": "stdout",
     "output_type": "stream",
     "text": [
      "CPU times: user 8min 45s, sys: 7.55 s, total: 8min 52s\n",
      "Wall time: 1min 29s\n"
     ]
    }
   ],
   "source": [
    "%%time\n",
    "\n",
    "model = fasttext.train_supervised(\n",
    "    'fasttext/train.csv', \n",
    "    verbose=2,\n",
    "    minCount=1,\n",
    "    wordNgrams=2,\n",
    "    lr=1.0, \n",
    "    epoch=25,\n",
    "    loss='hs'\n",
    ")"
   ]
  },
  {
   "cell_type": "code",
   "execution_count": 10,
   "metadata": {},
   "outputs": [
    {
     "name": "stdout",
     "output_type": "stream",
     "text": [
      "0.883733902957938\n"
     ]
    }
   ],
   "source": [
    "from sklearn.metrics import f1_score\n",
    "\n",
    "y_pred = [model.predict(x)[0][0].replace(PREFIX, '') for x in X_val]\n",
    "print(f1_score(y_val, y_pred, average='macro'))"
   ]
  },
  {
   "cell_type": "code",
   "execution_count": null,
   "metadata": {},
   "outputs": [],
   "source": []
  }
 ],
 "metadata": {
  "kernelspec": {
   "display_name": "Python 3",
   "language": "python",
   "name": "python3"
  },
  "language_info": {
   "codemirror_mode": {
    "name": "ipython",
    "version": 3
   },
   "file_extension": ".py",
   "mimetype": "text/x-python",
   "name": "python",
   "nbconvert_exporter": "python",
   "pygments_lexer": "ipython3",
   "version": "3.7.7"
  }
 },
 "nbformat": 4,
 "nbformat_minor": 4
}
